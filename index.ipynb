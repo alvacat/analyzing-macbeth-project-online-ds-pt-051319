{
 "cells": [
  {
   "cell_type": "markdown",
   "metadata": {},
   "source": [
    "# Project: Analyzing Macbeth\n",
    "\n",
    "## Introduction\n",
    "For our first day and first data science project, we're going to do some rudimentry analysis of Shakespeare's classic play: Macbeth! You will get practice working with lists, condtionals and dictionaries, visualizing data, and thinking analytically about data.\n",
    "\n",
    "## Objectives\n",
    "You will be able to:\n",
    "* Show mastery of the content covered in this section\n",
    "\n",
    "## Getting the Data\n",
    "Here we start by importing a python package and using it to pull the transcript of Macbeth from the project Gutenberg website. We also preview a few details about what is now stored in the variable macbeth; it's a string with 119,846 characters, the first 500 of which are printed below. "
   ]
  },
  {
   "cell_type": "code",
   "execution_count": 1,
   "metadata": {},
   "outputs": [
    {
     "name": "stdout",
     "output_type": "stream",
     "text": [
      "<class 'str'>\n",
      "119846\n",
      "﻿***The Project Gutenberg's Etext of Shakespeare's First Folio***\r\n",
      "********************The Tragedie of Macbeth*********************\r\n",
      "\r\n",
      "This is our 3rd edition of most of these plays.  See the index.\r\n",
      "\r\n",
      "\r\n",
      "Copyright laws are changing all over the world, be sure to check\r\n",
      "the copyright laws for your country before posting these files!!\r\n",
      "\r\n",
      "Please take a look at the important information in this header.\r\n",
      "We encourage you to keep this file on your own disk, keeping an\r\n",
      "electronic path open for the nex\n"
     ]
    }
   ],
   "source": [
    "import requests\n",
    "macbeth = requests.get('http://www.gutenberg.org/cache/epub/2264/pg2264.txt').text\n",
    "\n",
    "print(type(macbeth))\n",
    "print(len(macbeth))\n",
    "print(macbeth[:500])"
   ]
  },
  {
   "cell_type": "markdown",
   "metadata": {},
   "source": [
    "## Your Task\n",
    "\n",
    "Your task is to create a bar graph of the 25 most common words in Shakespeare's Macbeth.  \n",
    "\n",
    "\n",
    "A common python programming pattern to counting objects, produce histograms, or update statistics is to make calls to a dictionary as you iterate through a list. For example, given a list of words, you can create a dictionary to store counts and then iterate through the list of words, checking how many times each word has appeared using your dictionary, and updating the dictionary count now that you've seen that word again. The `dictionary.get()` method is very useful in doing this. Read the docstring for the dictionary.get() method and use it along with the pseudocode above to create a bar graph of the 25 most common words from the transcript of Macbeth which has been loaded into a variable 'Macbeth'. Be sure to include a title and appropriate labels for your graph."
   ]
  },
  {
   "cell_type": "code",
   "execution_count": 37,
   "metadata": {},
   "outputs": [
    {
     "data": {
      "image/png": "[encoded data removed]",
      "text/plain": [
       "<Figure size 576x432 with 1 Axes>"
      ]
     },
     "metadata": {
      "needs_background": "light"
     },
     "output_type": "display_data"
    }
   ],
   "source": [
    "# Your code here\n",
    "# Pseudo-code Outline\n",
    "import matplotlib.pyplot as plt\n",
    "\n",
    "#Look for the beginning of the actual text of Macbeth\n",
    "start=macbeth.find(\"Tragedie\") #finding the first occurence of \"The Tragedie of Macbeth\" --not the beginning of the text\n",
    "start=macbeth.find(\"Tragedie\",start+1) #finding the second occurence of \"The Tragedie of Macbeth\" --not the beginning\n",
    "start=macbeth.find(\"Tragedie\",start+1) #finding the third occurence of \"The Tragedie of Macbeth\" --not the beginning\n",
    "start=macbeth.find(\"Tragedie\",start+1) #finding the fourth occurence of \"The Tragedie of Macbeth\" --not the beginning\n",
    "start=macbeth.find(\"Tragedie\",start+1) #finding the fifth occurence of \"The Tragedie of Macbeth\" --not the beginning\n",
    "start=macbeth.find(\"Tragedie\",start+1) #finding the sixth occurence of \"The Tragedie of Macbeth\" --the actual beginning\n",
    "#print(macbeth[start-100:start+100]) #verifying that the text of the play starts here.\n",
    "\n",
    "#check the end of the text to make sure there's nothing extra\n",
    "#print(macbeth[-100:-1]) #there's nothing extra\n",
    "\n",
    "#Split the transcript into words\n",
    "macbeth_cropped=macbeth[start-4:-1].lower() #start-4 will include \"the \" in front of \"tragedie\". changes everything to lowercase\n",
    "#print(macbeth_cropped[0:500]) #verifying that the cropped string starts at the beginning of the text\n",
    "macbeth_cropped_word_list=macbeth_cropped.split() #splitting the text into words\n",
    "\n",
    "# Create a dictionary\n",
    "macbeth_words={}\n",
    "\n",
    "# Iterate through the text of Macbeth\n",
    "# Update word counts\n",
    "for word in macbeth_cropped_word_list:\n",
    "    if macbeth_words.get(word)!=None:\n",
    "        macbeth_words[word]+=1\n",
    "    else:\n",
    "        macbeth_words.update({word:1})\n",
    "\n",
    "#sort the dictionary by word count\n",
    "word_counts_sorted=sorted(macbeth_words.items(),key=lambda k:k[1],reverse=True)\n",
    "top_25=word_counts_sorted[0:25]\n",
    "#print(top_25)\n",
    "    \n",
    "# Create Bar Graph\n",
    "top_25_words=[]\n",
    "top_25_counts=[]\n",
    "i=len(top_25)-1\n",
    "while i>=0:\n",
    "    top_25_words.append(top_25[i][0]) #making list of words (x-values)\n",
    "    top_25_counts.append(top_25[i][1]) #making list of word counts (y-values)\n",
    "    i-=1\n",
    "plt.figure(figsize=(8,6))\n",
    "plt.barh(top_25_words,top_25_counts)\n",
    "\n",
    "# Include descriptive titles and labels\n",
    "\n",
    "plt.title('25 Most Common Words in Macbeth')\n",
    "plt.xlabel('Frequency (count)')\n",
    "plt.ylabel('Words')\n",
    "\n",
    "plt.show()\n",
    "\n"
   ]
  },
  {
   "cell_type": "markdown",
   "metadata": {},
   "source": [
    "## Level Up (Optional)\n",
    "This project should take you about an hour and a half to complete. If you're done much more quickly than that and are not behind in the course, feel free to deepen your knowledge by completing any or all of the following tasks until you run out of time:\n",
    "* Create a list of top characters by mentions of their names \n",
    "* Split the text by which character is talking\n",
    "* Create subgraphs of the most common words by character\n",
    "* Reduce the string to the text of the play itself. (Remove any initial notes, forward, introduction, appendix, etc.)\n",
    "* Come up with some other fun analyses of the text!\n",
    "\n",
    "## Summary\n",
    "Congratulations! You've got some extra practice combining various data types into useful programming patterns and done an initial analysis of a classic text!"
   ]
  }
 ],
 "metadata": {
  "kernelspec": {
   "display_name": "Python 3",
   "language": "python",
   "name": "python3"
  },
  "language_info": {
   "codemirror_mode": {
    "name": "ipython",
    "version": 3
   },
   "file_extension": ".py",
   "mimetype": "text/x-python",
   "name": "python",
   "nbconvert_exporter": "python",
   "pygments_lexer": "ipython3",
   "version": "3.7.3"
  }
 },
 "nbformat": 4,
 "nbformat_minor": 2
}
